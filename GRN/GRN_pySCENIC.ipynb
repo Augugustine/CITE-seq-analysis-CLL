{
 "cells": [
  {
   "cell_type": "code",
   "execution_count": 3,
   "id": "68d91e7c-ef36-432a-bed2-22f017376ac9",
   "metadata": {},
   "outputs": [],
   "source": [
    "#!pip install pandas numpy loompy pyscenic\n",
    "#!pip install \"numpy<1.24\" --force-reinstall\n",
    "import loompy\n",
    "import pyscenic\n",
    "import subprocess\n",
    "import pandas as pd\n",
    "import numpy as np\n",
    "import glob"
   ]
  },
  {
   "cell_type": "code",
   "execution_count": 6,
   "id": "a01bd71d-621e-41e5-87ea-beb61019e7be",
   "metadata": {},
   "outputs": [
    {
     "name": "stdout",
     "output_type": "stream",
     "text": [
      "Dimensions : (18723, 20671)\n",
      "Exemples de noms de gènes : ['Gene']\n",
      "Exemples de noms de cellules : ['ADT.weight', 'CellID', 'RNA.weight', 'RNA_snn_res.0.15', 'SingleR', 'doublet_finder', 'final_annot', 'manual_annotation', 'mapping.score', 'nCount_ADT', 'nCount_RNA', 'nFeature_ADT', 'nFeature_RNA', 'orig.ident', 'percent.mt', 'predicted.celltype.l1', 'predicted.celltype.l1.score', 'predicted.celltype.l2', 'predicted.celltype.l2.score', 'predicted.celltype.l3', 'predicted.celltype.l3.score', 'qc_pass', 'seurat_clusters', 'timepoint', 'wsnn_res.0.15']\n",
      "Premier gène : OR4F5\n",
      "Première cellule : D1_AAACCCAAGACCAGCA-1\n",
      "\n",
      "Attributs ligne (row attributes) : ['Gene']\n",
      "Attributs colonne (column attributes) : ['ADT.weight', 'CellID', 'RNA.weight', 'RNA_snn_res.0.15', 'SingleR', 'doublet_finder', 'final_annot', 'manual_annotation', 'mapping.score', 'nCount_ADT', 'nCount_RNA', 'nFeature_ADT', 'nFeature_RNA', 'orig.ident', 'percent.mt', 'predicted.celltype.l1', 'predicted.celltype.l1.score', 'predicted.celltype.l2', 'predicted.celltype.l2.score', 'predicted.celltype.l3', 'predicted.celltype.l3.score', 'qc_pass', 'seurat_clusters', 'timepoint', 'wsnn_res.0.15']\n",
      "Attributs globaux : ['LOOM_SPEC_VERSION']\n",
      "[[0.         0.         0.         0.         0.        ]\n",
      " [0.         0.         0.         0.         0.        ]\n",
      " [0.         0.         0.         0.         0.        ]\n",
      " ...\n",
      " [0.         0.         0.         1.36994482 0.        ]\n",
      " [3.46372789 3.93550915 3.67364107 3.7398546  2.50747971]\n",
      " [0.         0.         0.         0.         0.        ]]\n",
      "0.14609821973613263\n"
     ]
    }
   ],
   "source": [
    "# File loom\n",
    "f_loom_path_scenic = \"TimeCourse.loom\"\n",
    "ds = loompy.connect(f_loom_path_scenic, mode='r')\n",
    "\n",
    "loom_file = \"TimeCourse.loom\"\n",
    "ds = loompy.connect(loom_file, mode='r')\n",
    "\n",
    "# Voir les dimensions\n",
    "print(\"Dimensions :\", ds.shape)  # (nb_genes, nb_cellules)\n",
    "\n",
    "# Voir les noms de lignes et colonnes\n",
    "print(\"Exemples de noms de gènes :\", ds.ra.keys())\n",
    "print(\"Exemples de noms de cellules :\", ds.ca.keys())\n",
    "\n",
    "# Aperçu\n",
    "print(\"Premier gène :\", ds.ra[\"Gene\"][0])\n",
    "print(\"Première cellule :\", ds.ca[\"CellID\"][0])\n",
    "\n",
    "# Liste des attributs disponibles\n",
    "print(\"\\nAttributs ligne (row attributes) :\", list(ds.ra.keys()))\n",
    "print(\"Attributs colonne (column attributes) :\", list(ds.ca.keys()))\n",
    "print(\"Attributs globaux :\", list(ds.attrs.keys()))\n",
    "\n",
    "print(ds[:, :5])\n",
    "print(np.mean(ds[:, :5])) \n",
    "ds.close()\n",
    "\n",
    "\n"
   ]
  },
  {
   "cell_type": "code",
   "execution_count": 8,
   "id": "382b7efc-bce7-4568-a42c-54971ec58fdd",
   "metadata": {},
   "outputs": [
    {
     "ename": "ModuleNotFoundError",
     "evalue": "No module named 'binarization'",
     "output_type": "error",
     "traceback": [
      "\u001b[0;31m---------------------------------------------------------------------------\u001b[0m",
      "\u001b[0;31mModuleNotFoundError\u001b[0m                       Traceback (most recent call last)",
      "Cell \u001b[0;32mIn[8], line 3\u001b[0m\n\u001b[1;32m      1\u001b[0m \u001b[38;5;28;01mimport\u001b[39;00m\u001b[38;5;250m \u001b[39m\u001b[38;5;21;01msys\u001b[39;00m\n\u001b[1;32m      2\u001b[0m sys\u001b[38;5;241m.\u001b[39mpath\u001b[38;5;241m.\u001b[39mappend(\u001b[38;5;124m'\u001b[39m\u001b[38;5;124m/home/a.blanc-boekholt/miniconda3/envs/scenic_env/lib/python3.9/site-packages/pyscenic/bin/binarization.py\u001b[39m\u001b[38;5;124m'\u001b[39m)\n\u001b[0;32m----> 3\u001b[0m \u001b[38;5;28;01mfrom\u001b[39;00m\u001b[38;5;250m \u001b[39m\u001b[38;5;21;01mbinarization\u001b[39;00m\u001b[38;5;250m \u001b[39m\u001b[38;5;28;01mimport\u001b[39;00m binarize\n\u001b[1;32m      4\u001b[0m \u001b[38;5;28;01mimport\u001b[39;00m\u001b[38;5;250m \u001b[39m\u001b[38;5;21;01mpandas\u001b[39;00m\u001b[38;5;250m \u001b[39m\u001b[38;5;28;01mas\u001b[39;00m\u001b[38;5;250m \u001b[39m\u001b[38;5;21;01mpd\u001b[39;00m\n\u001b[1;32m      5\u001b[0m auc_mtx \u001b[38;5;241m=\u001b[39m pd\u001b[38;5;241m.\u001b[39mread_csv(\u001b[38;5;124m'\u001b[39m\u001b[38;5;124mMatrix/step_3_aucell.csv\u001b[39m\u001b[38;5;124m'\u001b[39m, sep \u001b[38;5;241m=\u001b[39m \u001b[38;5;124m'\u001b[39m\u001b[38;5;124m,\u001b[39m\u001b[38;5;124m'\u001b[39m)\n",
      "\u001b[0;31mModuleNotFoundError\u001b[0m: No module named 'binarization'"
     ]
    }
   ],
   "source": [
    "import sys\n",
    "sys.path.append('/home/a.blanc-boekholt/miniconda3/envs/scenic_env/lib/python3.9/site-packages/pyscenic/bin/binarization.py')\n",
    "from binarization import binarize\n",
    "import pandas as pd\n",
    "auc_mtx = pd.read_csv('Matrix/step_3_aucell.csv', sep = ',')\n",
    "\n",
    "auc_mtx_binary = binarize(auc_mtx)\n",
    "auc_binary = pd.DataFrame(auc_mtx_binary[0])"
   ]
  },
  {
   "cell_type": "code",
   "execution_count": 3,
   "id": "e5de3d3d-6880-4d23-afea-79212492dcc6",
   "metadata": {},
   "outputs": [],
   "source": [
    "#STEP 1: Gene regulatory network inference, and generation of co-expression modules¶\n",
    "#transcription factors list\n",
    "f_tfs = \"allTFs_hg38.txt\" # human"
   ]
  },
  {
   "cell_type": "code",
   "execution_count": 4,
   "id": "b7f0f6ef-8e72-4d24-af02-d4aef34bb808",
   "metadata": {},
   "outputs": [
    {
     "name": "stdout",
     "output_type": "stream",
     "text": [
      "/home/a.blanc-boekholt/miniconda3/envs/scenic_env/lib/python3.9/site-packages/ctxcore/__init__.py:5: UserWarning: pkg_resources is deprecated as an API. See https://setuptools.pypa.io/en/latest/pkg_resources.html. The pkg_resources package is slated for removal as early as 2025-11-30. Refrain from using this package or pin to Setuptools<81.\n",
      "  from pkg_resources import DistributionNotFound, get_distribution\n",
      "\n",
      "2025-10-24 12:04:13,186 - pyscenic.cli.pyscenic - INFO - Loading expression matrix.\n",
      "\n",
      "2025-10-24 12:04:20,259 - pyscenic.cli.pyscenic - INFO - Inferring regulatory networks.\n",
      "Numba: Attempted to fork from a non-main thread, the TBB library may be in an invalid state in the child process.\n",
      "Numba: Attempted to fork from a non-main thread, the TBB library may be in an invalid state in the child process.\n",
      "Numba: Attempted to fork from a non-main thread, the TBB library may be in an invalid state in the child process.\n",
      "Numba: Attempted to fork from a non-main thread, the TBB library may be in an invalid state in the child process.\n",
      "Numba: Attempted to fork from a non-main thread, the TBB library may be in an invalid state in the child process.\n",
      "Numba: Attempted to fork from a non-main thread, the TBB library may be in an invalid state in the child process.\n",
      "Numba: Attempted to fork from a non-main thread, the TBB library may be in an invalid state in the child process.\n",
      "Numba: Attempted to fork from a non-main thread, the TBB library may be in an invalid state in the child process.\n",
      "Numba: Attempted to fork from a non-main thread, the TBB library may be in an invalid state in the child process.\n",
      "Numba: Attempted to fork from a non-main thread, the TBB library may be in an invalid state in the child process.\n",
      "Numba: Attempted to fork from a non-main thread, the TBB library may be in an invalid state in the child process.\n",
      "Numba: Attempted to fork from a non-main thread, the TBB library may be in an invalid state in the child process.\n",
      "Numba: Attempted to fork from a non-main thread, the TBB library may be in an invalid state in the child process.\n",
      "Numba: Attempted to fork from a non-main thread, the TBB library may be in an invalid state in the child process.\n",
      "Numba: Attempted to fork from a non-main thread, the TBB library may be in an invalid state in the child process.\n",
      "Numba: Attempted to fork from a non-main thread, the TBB library may be in an invalid state in the child process.\n",
      "Numba: Attempted to fork from a non-main thread, the TBB library may be in an invalid state in the child process.\n",
      "Numba: Attempted to fork from a non-main thread, the TBB library may be in an invalid state in the child process.\n",
      "Numba: Attempted to fork from a non-main thread, the TBB library may be in an invalid state in the child process.\n",
      "Numba: Attempted to fork from a non-main thread, the TBB library may be in an invalid state in the child process.\n",
      "Numba: Attempted to fork from a non-main thread, the TBB library may be in an invalid state in the child process.\n",
      "/home/a.blanc-boekholt/miniconda3/envs/scenic_env/lib/python3.9/site-packages/ctxcore/__init__.py:5: UserWarning: pkg_resources is deprecated as an API. See https://setuptools.pypa.io/en/latest/pkg_resources.html. The pkg_resources package is slated for removal as early as 2025-11-30. Refrain from using this package or pin to Setuptools<81.\n",
      "  from pkg_resources import DistributionNotFound, get_distribution\n",
      "/home/a.blanc-boekholt/miniconda3/envs/scenic_env/lib/python3.9/site-packages/ctxcore/__init__.py:5: UserWarning: pkg_resources is deprecated as an API. See https://setuptools.pypa.io/en/latest/pkg_resources.html. The pkg_resources package is slated for removal as early as 2025-11-30. Refrain from using this package or pin to Setuptools<81.\n",
      "  from pkg_resources import DistributionNotFound, get_distribution\n",
      "/home/a.blanc-boekholt/miniconda3/envs/scenic_env/lib/python3.9/site-packages/ctxcore/__init__.py:5: UserWarning: pkg_resources is deprecated as an API. See https://setuptools.pypa.io/en/latest/pkg_resources.html. The pkg_resources package is slated for removal as early as 2025-11-30. Refrain from using this package or pin to Setuptools<81.\n",
      "  from pkg_resources import DistributionNotFound, get_distribution\n",
      "/home/a.blanc-boekholt/miniconda3/envs/scenic_env/lib/python3.9/site-packages/ctxcore/__init__.py:5: UserWarning: pkg_resources is deprecated as an API. See https://setuptools.pypa.io/en/latest/pkg_resources.html. The pkg_resources package is slated for removal as early as 2025-11-30. Refrain from using this package or pin to Setuptools<81.\n",
      "  from pkg_resources import DistributionNotFound, get_distribution\n",
      "/home/a.blanc-boekholt/miniconda3/envs/scenic_env/lib/python3.9/site-packages/ctxcore/__init__.py:5: UserWarning: pkg_resources is deprecated as an API. See https://setuptools.pypa.io/en/latest/pkg_resources.html. The pkg_resources package is slated for removal as early as 2025-11-30. Refrain from using this package or pin to Setuptools<81.\n",
      "  from pkg_resources import DistributionNotFound, get_distribution\n",
      "/home/a.blanc-boekholt/miniconda3/envs/scenic_env/lib/python3.9/site-packages/ctxcore/__init__.py:5: UserWarning: pkg_resources is deprecated as an API. See https://setuptools.pypa.io/en/latest/pkg_resources.html. The pkg_resources package is slated for removal as early as 2025-11-30. Refrain from using this package or pin to Setuptools<81.\n",
      "  from pkg_resources import DistributionNotFound, get_distribution\n",
      "/home/a.blanc-boekholt/miniconda3/envs/scenic_env/lib/python3.9/site-packages/ctxcore/__init__.py:5: UserWarning: pkg_resources is deprecated as an API. See https://setuptools.pypa.io/en/latest/pkg_resources.html. The pkg_resources package is slated for removal as early as 2025-11-30. Refrain from using this package or pin to Setuptools<81.\n",
      "  from pkg_resources import DistributionNotFound, get_distribution\n",
      "/home/a.blanc-boekholt/miniconda3/envs/scenic_env/lib/python3.9/site-packages/ctxcore/__init__.py:5: UserWarning: pkg_resources is deprecated as an API. See https://setuptools.pypa.io/en/latest/pkg_resources.html. The pkg_resources package is slated for removal as early as 2025-11-30. Refrain from using this package or pin to Setuptools<81.\n",
      "  from pkg_resources import DistributionNotFound, get_distribution\n",
      "/home/a.blanc-boekholt/miniconda3/envs/scenic_env/lib/python3.9/site-packages/ctxcore/__init__.py:5: UserWarning: pkg_resources is deprecated as an API. See https://setuptools.pypa.io/en/latest/pkg_resources.html. The pkg_resources package is slated for removal as early as 2025-11-30. Refrain from using this package or pin to Setuptools<81.\n",
      "  from pkg_resources import DistributionNotFound, get_distribution\n",
      "/home/a.blanc-boekholt/miniconda3/envs/scenic_env/lib/python3.9/site-packages/ctxcore/__init__.py:5: UserWarning: pkg_resources is deprecated as an API. See https://setuptools.pypa.io/en/latest/pkg_resources.html. The pkg_resources package is slated for removal as early as 2025-11-30. Refrain from using this package or pin to Setuptools<81.\n",
      "  from pkg_resources import DistributionNotFound, get_distribution\n",
      "/home/a.blanc-boekholt/miniconda3/envs/scenic_env/lib/python3.9/site-packages/ctxcore/__init__.py:5: UserWarning: pkg_resources is deprecated as an API. See https://setuptools.pypa.io/en/latest/pkg_resources.html. The pkg_resources package is slated for removal as early as 2025-11-30. Refrain from using this package or pin to Setuptools<81.\n",
      "  from pkg_resources import DistributionNotFound, get_distribution\n",
      "/home/a.blanc-boekholt/miniconda3/envs/scenic_env/lib/python3.9/site-packages/ctxcore/__init__.py:5: UserWarning: pkg_resources is deprecated as an API. See https://setuptools.pypa.io/en/latest/pkg_resources.html. The pkg_resources package is slated for removal as early as 2025-11-30. Refrain from using this package or pin to Setuptools<81.\n",
      "  from pkg_resources import DistributionNotFound, get_distribution\n",
      "/home/a.blanc-boekholt/miniconda3/envs/scenic_env/lib/python3.9/site-packages/ctxcore/__init__.py:5: UserWarning: pkg_resources is deprecated as an API. See https://setuptools.pypa.io/en/latest/pkg_resources.html. The pkg_resources package is slated for removal as early as 2025-11-30. Refrain from using this package or pin to Setuptools<81.\n",
      "  from pkg_resources import DistributionNotFound, get_distribution\n",
      "/home/a.blanc-boekholt/miniconda3/envs/scenic_env/lib/python3.9/site-packages/ctxcore/__init__.py:5: UserWarning: pkg_resources is deprecated as an API. See https://setuptools.pypa.io/en/latest/pkg_resources.html. The pkg_resources package is slated for removal as early as 2025-11-30. Refrain from using this package or pin to Setuptools<81.\n",
      "  from pkg_resources import DistributionNotFound, get_distribution\n",
      "/home/a.blanc-boekholt/miniconda3/envs/scenic_env/lib/python3.9/site-packages/ctxcore/__init__.py:5: UserWarning: pkg_resources is deprecated as an API. See https://setuptools.pypa.io/en/latest/pkg_resources.html. The pkg_resources package is slated for removal as early as 2025-11-30. Refrain from using this package or pin to Setuptools<81.\n",
      "  from pkg_resources import DistributionNotFound, get_distribution\n",
      "/home/a.blanc-boekholt/miniconda3/envs/scenic_env/lib/python3.9/site-packages/ctxcore/__init__.py:5: UserWarning: pkg_resources is deprecated as an API. See https://setuptools.pypa.io/en/latest/pkg_resources.html. The pkg_resources package is slated for removal as early as 2025-11-30. Refrain from using this package or pin to Setuptools<81.\n",
      "  from pkg_resources import DistributionNotFound, get_distribution\n",
      "/home/a.blanc-boekholt/miniconda3/envs/scenic_env/lib/python3.9/site-packages/ctxcore/__init__.py:5: UserWarning: pkg_resources is deprecated as an API. See https://setuptools.pypa.io/en/latest/pkg_resources.html. The pkg_resources package is slated for removal as early as 2025-11-30. Refrain from using this package or pin to Setuptools<81.\n",
      "  from pkg_resources import DistributionNotFound, get_distribution\n",
      "/home/a.blanc-boekholt/miniconda3/envs/scenic_env/lib/python3.9/site-packages/ctxcore/__init__.py:5: UserWarning: pkg_resources is deprecated as an API. See https://setuptools.pypa.io/en/latest/pkg_resources.html. The pkg_resources package is slated for removal as early as 2025-11-30. Refrain from using this package or pin to Setuptools<81.\n",
      "  from pkg_resources import DistributionNotFound, get_distribution\n",
      "/home/a.blanc-boekholt/miniconda3/envs/scenic_env/lib/python3.9/site-packages/ctxcore/__init__.py:5: UserWarning: pkg_resources is deprecated as an API. See https://setuptools.pypa.io/en/latest/pkg_resources.html. The pkg_resources package is slated for removal as early as 2025-11-30. Refrain from using this package or pin to Setuptools<81.\n",
      "  from pkg_resources import DistributionNotFound, get_distribution\n",
      "/home/a.blanc-boekholt/miniconda3/envs/scenic_env/lib/python3.9/site-packages/ctxcore/__init__.py:5: UserWarning: pkg_resources is deprecated as an API. See https://setuptools.pypa.io/en/latest/pkg_resources.html. The pkg_resources package is slated for removal as early as 2025-11-30. Refrain from using this package or pin to Setuptools<81.\n",
      "  from pkg_resources import DistributionNotFound, get_distribution\n",
      "Numba: Attempted to fork from a non-main thread, the TBB library may be in an invalid state in the child process.\n",
      "preparing dask client\n",
      "parsing input\n",
      "creating dask graph\n",
      "20 partitions\n",
      "computing dask graph\n",
      "/home/a.blanc-boekholt/miniconda3/envs/scenic_env/lib/python3.9/site-packages/distributed/client.py:3106: UserWarning: Sending large graph of size 346.20 MiB.\n",
      "This may cause some slowdown.\n",
      "Consider scattering data ahead of time and using futures.\n",
      "  warnings.warn(\n",
      "^C\n",
      "not shutting down client, client was created externally\n",
      "finished\n"
     ]
    }
   ],
   "source": [
    "!pyscenic grn {f_loom_path_scenic} {f_tfs} -o adj.csv --num_workers 20"
   ]
  },
  {
   "cell_type": "code",
   "execution_count": null,
   "id": "a0eb7340-2f8d-4076-8362-36b2f6ec9276",
   "metadata": {},
   "outputs": [],
   "source": [
    "adjacencies = pd.read_csv(\"adj.tsv\", index_col=False, sep='\\t')\n",
    "adjacencies.head()"
   ]
  },
  {
   "cell_type": "code",
   "execution_count": null,
   "id": "349545fb-27f5-4ab3-ae09-89fc16876c86",
   "metadata": {},
   "outputs": [],
   "source": [
    "#STEP 2-3: Regulon prediction aka cisTarget from CLI\n",
    "\n",
    "# ranking databases\n",
    "f_db_glob = \"hg38__refseq-r80__10kb_up_and_down_tss.mc9nr.genes_vs_motifs.rankings.feather\"\n",
    "f_db_names = ' '.join( glob.glob(f_db_glob) )\n",
    "\n",
    "# motif databases\n",
    "f_motif_path = \"motifs-v10nr_clust-nr.hgnc-m0.001-o0.0.tbl\""
   ]
  },
  {
   "cell_type": "code",
   "execution_count": null,
   "id": "69479766-4cf9-4687-922c-26a40000f833",
   "metadata": {},
   "outputs": [],
   "source": [
    "!pyscenic ctx adj.tsv \\\n",
    "    {f_db_names} \\\n",
    "    --annotations_fname {f_motif_path} \\\n",
    "    --expression_mtx_fname {f_loom_path_scenic} \\\n",
    "    --output reg.csv \\\n",
    "    --mask_dropouts \\\n",
    "    --num_workers 20"
   ]
  },
  {
   "cell_type": "code",
   "execution_count": null,
   "id": "7c9c05af-b89b-496f-a6e7-71e4850927a5",
   "metadata": {},
   "outputs": [],
   "source": [
    "#STEP 4: Cellular enrichment (aka AUCell) from CLI\n",
    "nGenesDetectedPerCell = np.sum(adata.X>0, axis=1)\n",
    "percentiles = nGenesDetectedPerCell.quantile([.01, .05, .10, .50, 1])\n",
    "print(percentiles)"
   ]
  },
  {
   "cell_type": "code",
   "execution_count": null,
   "id": "e89b2cc8-73ba-4538-8ea5-13c493389c29",
   "metadata": {},
   "outputs": [],
   "source": [
    "fig, ax = plt.subplots(1, 1, figsize=(8, 5), dpi=150)\n",
    "sns.distplot(nGenesDetectedPerCell, norm_hist=False, kde=False, bins='fd')\n",
    "for i,x in enumerate(percentiles):\n",
    "    fig.gca().axvline(x=x, ymin=0,ymax=1, color='red')\n",
    "    ax.text(x=x, y=ax.get_ylim()[1], s=f'{int(x)} ({percentiles.index.values[i]*100}%)', color='red', rotation=30, size='x-small',rotation_mode='anchor' )\n",
    "ax.set_xlabel('# of genes')\n",
    "ax.set_ylabel('# of cells')\n",
    "fig.tight_layout()"
   ]
  },
  {
   "cell_type": "code",
   "execution_count": null,
   "id": "8360707d-64c8-41d9-84b1-8b66e49362b8",
   "metadata": {},
   "outputs": [],
   "source": [
    "!pyscenic aucell \\\n",
    "    {f_loom_path_scenic} \\\n",
    "    reg.csv \\\n",
    "    --output {f_pyscenic_output} \\\n",
    "    --num_workers 20"
   ]
  },
  {
   "cell_type": "code",
   "execution_count": 4,
   "id": "9b89628d-fdc5-4499-b010-9e707d9e781e",
   "metadata": {},
   "outputs": [],
   "source": [
    "# Visualization of SCENIC's AUC matrix\n",
    "import json\n",
    "import zlib\n",
    "import base64\n",
    "\n",
    "# collect SCENIC AUCell output\n",
    "f_csv = \"Matrix/step_3_aucell.csv\"\n",
    "\n",
    "# Lire le fichier\n",
    "auc_mtx = pd.read_csv(f_csv, index_col=0)"
   ]
  },
  {
   "cell_type": "code",
   "execution_count": 5,
   "id": "77d83895-baa5-4280-9155-43fc3b64d270",
   "metadata": {},
   "outputs": [
    {
     "ename": "NameError",
     "evalue": "name 'TSNE' is not defined",
     "output_type": "error",
     "traceback": [
      "\u001b[0;31m---------------------------------------------------------------------------\u001b[0m",
      "\u001b[0;31mNameError\u001b[0m                                 Traceback (most recent call last)",
      "Cell \u001b[0;32mIn[5], line 9\u001b[0m\n\u001b[1;32m      7\u001b[0m pd\u001b[38;5;241m.\u001b[39mDataFrame(dr_umap, columns\u001b[38;5;241m=\u001b[39m[\u001b[38;5;124m'\u001b[39m\u001b[38;5;124mX\u001b[39m\u001b[38;5;124m'\u001b[39m, \u001b[38;5;124m'\u001b[39m\u001b[38;5;124mY\u001b[39m\u001b[38;5;124m'\u001b[39m], index\u001b[38;5;241m=\u001b[39mauc_mtx\u001b[38;5;241m.\u001b[39mindex)\u001b[38;5;241m.\u001b[39mto_csv( \u001b[38;5;124m\"\u001b[39m\u001b[38;5;124mscenic_umap.txt\u001b[39m\u001b[38;5;124m\"\u001b[39m, sep\u001b[38;5;241m=\u001b[39m\u001b[38;5;124m'\u001b[39m\u001b[38;5;130;01m\\t\u001b[39;00m\u001b[38;5;124m'\u001b[39m)\n\u001b[1;32m      8\u001b[0m \u001b[38;5;66;03m# tSNE\u001b[39;00m\n\u001b[0;32m----> 9\u001b[0m tsne \u001b[38;5;241m=\u001b[39m \u001b[43mTSNE\u001b[49m( n_jobs\u001b[38;5;241m=\u001b[39m\u001b[38;5;241m20\u001b[39m )\n\u001b[1;32m     10\u001b[0m dr_tsne \u001b[38;5;241m=\u001b[39m tsne\u001b[38;5;241m.\u001b[39mfit_transform( auc_mtx )\n\u001b[1;32m     11\u001b[0m pd\u001b[38;5;241m.\u001b[39mDataFrame(dr_tsne, columns\u001b[38;5;241m=\u001b[39m[\u001b[38;5;124m'\u001b[39m\u001b[38;5;124mX\u001b[39m\u001b[38;5;124m'\u001b[39m, \u001b[38;5;124m'\u001b[39m\u001b[38;5;124mY\u001b[39m\u001b[38;5;124m'\u001b[39m], index\u001b[38;5;241m=\u001b[39mauc_mtx\u001b[38;5;241m.\u001b[39mindex)\u001b[38;5;241m.\u001b[39mto_csv( \u001b[38;5;124m\"\u001b[39m\u001b[38;5;124mscenic_tsne.txt\u001b[39m\u001b[38;5;124m\"\u001b[39m, sep\u001b[38;5;241m=\u001b[39m\u001b[38;5;124m'\u001b[39m\u001b[38;5;130;01m\\t\u001b[39;00m\u001b[38;5;124m'\u001b[39m)\n",
      "\u001b[0;31mNameError\u001b[0m: name 'TSNE' is not defined"
     ]
    }
   ],
   "source": [
    "#!pip install --upgrade scikit-learn umap-learn\n",
    "import umap\n",
    "\n",
    "# UMAP\n",
    "runUmap = umap.UMAP(n_neighbors=10, min_dist=0.4, metric='correlation').fit_transform\n",
    "dr_umap = runUmap( auc_mtx )\n",
    "pd.DataFrame(dr_umap, columns=['X', 'Y'], index=auc_mtx.index).to_csv( \"scenic_umap.txt\", sep='\\t')\n",
    "# tSNE\n",
    "tsne = TSNE( n_jobs=20 )\n",
    "dr_tsne = tsne.fit_transform( auc_mtx )\n",
    "pd.DataFrame(dr_tsne, columns=['X', 'Y'], index=auc_mtx.index).to_csv( \"scenic_tsne.txt\", sep='\\t')"
   ]
  },
  {
   "cell_type": "code",
   "execution_count": null,
   "id": "97a40672-a998-4d9c-9149-715ce0bec7c4",
   "metadata": {},
   "outputs": [],
   "source": []
  }
 ],
 "metadata": {
  "kernelspec": {
   "display_name": "Python (SCENIC)",
   "language": "python",
   "name": "scenic_env"
  },
  "language_info": {
   "codemirror_mode": {
    "name": "ipython",
    "version": 3
   },
   "file_extension": ".py",
   "mimetype": "text/x-python",
   "name": "python",
   "nbconvert_exporter": "python",
   "pygments_lexer": "ipython3",
   "version": "3.9.24"
  }
 },
 "nbformat": 4,
 "nbformat_minor": 5
}
